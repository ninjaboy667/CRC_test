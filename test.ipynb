{
 "cells": [
  {
   "cell_type": "code",
   "execution_count": 5,
   "metadata": {
    "dotnet_interactive": {
     "language": "csharp"
    },
    "polyglot_notebook": {
     "kernelName": "csharp"
    },
    "vscode": {
     "languageId": "polyglot-notebook"
    }
   },
   "outputs": [
    {
     "data": {
      "text/html": [
       "<div><div></div><div></div><div><strong>Installed Packages</strong><ul><li><span>CrcDotNET, 1.0.3</span></li><li><span>System.IO.Ports, 8.0.0</span></li></ul></div></div>"
      ]
     },
     "metadata": {},
     "output_type": "display_data"
    }
   ],
   "source": [
    "#r \"nuget:CrcDotNET, 1.0.3\"\n",
    "#r \"nuget: System.IO.Ports, 8.0.0\"\n",
    "// install necessary library"
   ]
  },
  {
   "cell_type": "code",
   "execution_count": 6,
   "metadata": {
    "dotnet_interactive": {
     "language": "csharp"
    },
    "polyglot_notebook": {
     "kernelName": "csharp"
    },
    "vscode": {
     "languageId": "polyglot-notebook"
    }
   },
   "outputs": [
    {
     "name": "stdout",
     "output_type": "stream",
     "text": [
      "Reference: spi(1,0,0a2070000)\n",
      "spi(1,0,0a2070000)\n",
      "\n"
     ]
    }
   ],
   "source": [
    "#load \"test.cs\"\n",
    "\n",
    "SpiController mycontroller = new SpiController();\n",
    "\n",
    "string commandinput = mycontroller.GlobalDiag0(1,0,0,0,0,0,0,0,0,0,0,0,0);\n",
    "Console.WriteLine(\"Reference: spi(1,0,0a2070000)\");\n",
    "Console.WriteLine($\"spi(1,0,{commandinput})\\r\\n\");\n"
   ]
  },
  {
   "cell_type": "code",
   "execution_count": 1,
   "metadata": {
    "dotnet_interactive": {
     "language": "csharp"
    },
    "polyglot_notebook": {
     "kernelName": "csharp"
    },
    "vscode": {
     "languageId": "polyglot-notebook"
    }
   },
   "outputs": [
    {
     "name": "stdout",
     "output_type": "stream",
     "text": [
      "hello world\r\n"
     ]
    }
   ],
   "source": [
    "Console.WriteLine(\"hello world\");"
   ]
  }
 ],
 "metadata": {
  "language_info": {
   "name": "csharp"
  }
 },
 "nbformat": 4,
 "nbformat_minor": 2
}
