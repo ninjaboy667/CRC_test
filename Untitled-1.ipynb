{
 "cells": [
  {
   "cell_type": "code",
   "execution_count": 1,
   "metadata": {
    "dotnet_interactive": {
     "language": "csharp"
    },
    "polyglot_notebook": {
     "kernelName": "csharp"
    }
   },
   "outputs": [
    {
     "data": {
      "text/html": [
       "<div><div></div><div></div><div><strong>Installed Packages</strong><ul><li><span>CrcDotNET, 1.0.3</span></li><li><span>System.IO.Ports, 8.0.0</span></li></ul></div></div>"
      ]
     },
     "metadata": {},
     "output_type": "display_data"
    }
   ],
   "source": [
    "#r \"nuget:CrcDotNET, 1.0.3\"\n",
    "#r \"nuget: System.IO.Ports, 8.0.0\"\n",
    "// install necessary library"
   ]
  },
  {
   "cell_type": "code",
   "execution_count": 3,
   "metadata": {
    "dotnet_interactive": {
     "language": "csharp"
    },
    "polyglot_notebook": {
     "kernelName": "csharp"
    }
   },
   "outputs": [],
   "source": [
    "#load \"test.cs\"\n",
    "using System.Threading;\n",
    "using System.IO.Ports;\n",
    "using System.Net;\n",
    "using System.Diagnostics;\n",
    "using System.Net.Sockets;\n",
    "\n",
    "\n",
    "SpiController mycontroller = new SpiController();\n",
    "SerialPort port = new SerialPort(\"COM4\", 115200, Parity.None, 8, StopBits.One);\n",
    "port.DataReceived += new SerialDataReceivedEventHandler(port_DataReceived);\n",
    "\n",
    "private static ManualResetEvent dataReceivedEvent = new ManualResetEvent(true);\n",
    "static void port_DataReceived(object sender, SerialDataReceivedEventArgs e)\n",
    "{\n",
    "    Console.Write(((SerialPort)sender).ReadExisting());\n",
    "    Debug.Write(((SerialPort)sender).ReadExisting());\n",
    "    dataReceivedEvent.Set(); // Signal that data has been received\n",
    "\n",
    "}"
   ]
  },
  {
   "cell_type": "code",
   "execution_count": 4,
   "metadata": {
    "dotnet_interactive": {
     "language": "csharp"
    },
    "polyglot_notebook": {
     "kernelName": "csharp"
    }
   },
   "outputs": [],
   "source": [
    "port.Open();"
   ]
  },
  {
   "cell_type": "code",
   "execution_count": 23,
   "metadata": {
    "dotnet_interactive": {
     "language": "csharp"
    },
    "polyglot_notebook": {
     "kernelName": "csharp"
    }
   },
   "outputs": [],
   "source": [
    "port.Close();"
   ]
  },
  {
   "cell_type": "code",
   "execution_count": 5,
   "metadata": {
    "dotnet_interactive": {
     "language": "csharp"
    },
    "polyglot_notebook": {
     "kernelName": "csharp"
    }
   },
   "outputs": [
    {
     "name": "stdout",
     "output_type": "stream",
     "text": [
      "Reference: spi(1,0,74054004)\n",
      "spi(1,0,74054004)\n",
      "\n"
     ]
    }
   ],
   "source": [
    "// Write;GLOBAL_CONFIG;0x02;0x4004\n",
    "Console.WriteLine(\"Reference: spi(1,0,74054004)\");\n",
    "string commandinput = mycontroller.GlobalConfig(1,1,0,0,0,0,1,0,0);\n",
    "Console.WriteLine($\"spi(1,0,{commandinput})\\r\\n\");\n",
    "port.Write($\"spi(1,0,{commandinput})\\r\\n\");"
   ]
  },
  {
   "cell_type": "code",
   "execution_count": 6,
   "metadata": {
    "dotnet_interactive": {
     "language": "csharp"
    },
    "polyglot_notebook": {
     "kernelName": "csharp"
    }
   },
   "outputs": [
    {
     "name": "stdout",
     "output_type": "stream",
     "text": [
      "Reference: spi(1,0,0a2070000)\n",
      "spi(1,0,A2070000)\n",
      "\n"
     ]
    }
   ],
   "source": [
    "// Write;GLOBAL_DIAG0;0x03;0x000\n",
    "commandinput = mycontroller.GlobalDiag0(1,0,0,0,0,0,0,0,0,0,0,0,0);\n",
    "Console.WriteLine(\"Reference: spi(1,0,0a2070000)\");\n",
    "Console.WriteLine($\"spi(1,0,{commandinput})\\r\\n\");\n",
    "port.Write($\"spi(1,0,{commandinput})\\r\\n\");"
   ]
  },
  {
   "cell_type": "code",
   "execution_count": 36,
   "metadata": {
    "dotnet_interactive": {
     "language": "csharp"
    },
    "polyglot_notebook": {
     "kernelName": "csharp"
    }
   },
   "outputs": [
    {
     "name": "stdout",
     "output_type": "stream",
     "text": [
      "Reference: spi(1,0,04090000)\n",
      "spi(1,0,04090000)\n",
      "\n"
     ]
    }
   ],
   "source": [
    "\n",
    "// Write;GLOBAL_DIAG1;0x04;0x000\n",
    "commandinput = mycontroller.GlobalDiag1(1,0,0,0,0,0,0,0,0);\n",
    "Console.WriteLine(\"Reference: spi(1,0,04090000)\");\n",
    "Console.WriteLine($\"spi(1,0,{commandinput})\\r\\n\");\n",
    "port.Write($\"spi(1,0,{commandinput})\\r\\n\");"
   ]
  },
  {
   "cell_type": "code",
   "execution_count": null,
   "metadata": {
    "dotnet_interactive": {
     "language": "csharp"
    },
    "polyglot_notebook": {
     "kernelName": "csharp"
    }
   },
   "outputs": [],
   "source": [
    "// Write;GLOBAL_DIAG2;0x05;0x000\n",
    "commandinput = mycontroller.GlobalDiag2(1,0,0,0);\n",
    "Console.WriteLine(\"Reference: spi(1,0,3e0b0000)\");\n",
    "Console.WriteLine($\"spi(1,0,{commandinput})\\r\\n\");"
   ]
  },
  {
   "cell_type": "code",
   "execution_count": null,
   "metadata": {
    "dotnet_interactive": {
     "language": "csharp"
    },
    "polyglot_notebook": {
     "kernelName": "csharp"
    }
   },
   "outputs": [],
   "source": [
    "\n",
    "// Write;DIAG_ERR_CHGR0;0x0a;0x000\n",
    "commandinput = mycontroller.DiagnosisErrorRegister0(1,0,0,0,0,0,0,0,0,0,0);\n",
    "Console.WriteLine(\"Reference: spi(1,0,55150000)\");\n",
    "Console.WriteLine($\"spi(1,0,{commandinput})\\r\\n\");\n"
   ]
  },
  {
   "cell_type": "code",
   "execution_count": null,
   "metadata": {
    "dotnet_interactive": {
     "language": "csharp"
    },
    "polyglot_notebook": {
     "kernelName": "csharp"
    }
   },
   "outputs": [],
   "source": [
    "\n",
    "// Write;DIAG_ERR_CHGR1;0x0b;0x000\n",
    "commandinput = mycontroller.DiagnosisErrorRegister1(1,0,0,0,0,0,0,0,0,0,0);\n",
    "Console.WriteLine(\"Reference: spi(1,0,6f170000)\");\n",
    "Console.WriteLine($\"spi(1,0,{commandinput})\\r\\n\");"
   ]
  },
  {
   "cell_type": "code",
   "execution_count": null,
   "metadata": {
    "dotnet_interactive": {
     "language": "csharp"
    },
    "polyglot_notebook": {
     "kernelName": "csharp"
    }
   },
   "outputs": [],
   "source": [
    "// Write;DIAG_WARN_CHGR0;0x10;0x000\n",
    "commandinput = mycontroller.DiagnosisWarningRegister0(1,0,0,0,0,0,0,0,0,0,0);\n",
    "Console.WriteLine(\"Reference: spi(1,0,6b210000)\");\n",
    "Console.WriteLine($\"spi(1,0,{commandinput})\\r\\n\");\n"
   ]
  },
  {
   "cell_type": "code",
   "execution_count": null,
   "metadata": {
    "dotnet_interactive": {
     "language": "csharp"
    },
    "polyglot_notebook": {
     "kernelName": "csharp"
    }
   },
   "outputs": [],
   "source": [
    "\n",
    "\n",
    "/// baddddd  \n",
    "// Write;DIAG_WARN_CHGR1;0x11;0x000\n",
    "commandinput = mycontroller.DiagnosisWarningRegister1(1,0,0,0,0,0,0,0,0,0,0);\n",
    "Console.WriteLine(\"!@#$!@#$!@#$: spi(1,0,51230000)\");\n",
    "Console.WriteLine($\"spi(1,0,{commandinput})\\r\\n\");"
   ]
  },
  {
   "cell_type": "code",
   "execution_count": null,
   "metadata": {
    "dotnet_interactive": {
     "language": "csharp"
    },
    "polyglot_notebook": {
     "kernelName": "csharp"
    }
   },
   "outputs": [],
   "source": [
    "\n",
    "\n",
    "\n",
    "// Write;SETPOINT;0x40;0x2000\n",
    "commandinput = mycontroller.SetPoint(1,0,8192,0);\n",
    "Console.WriteLine(\"should be good: spi(1,0,0bf812000)\");\n",
    "Console.WriteLine($\"spi(1,0,{commandinput})\\r\\n\");"
   ]
  },
  {
   "cell_type": "code",
   "execution_count": null,
   "metadata": {
    "dotnet_interactive": {
     "language": "csharp"
    },
    "polyglot_notebook": {
     "kernelName": "csharp"
    }
   },
   "outputs": [],
   "source": [
    "// Write;MODE;0x4c;0x001\n",
    "commandinput = mycontroller.Mode(1,0,1);\n",
    "Console.WriteLine(\"Reference: spi(1,0,60990001)\");\n",
    "Console.WriteLine($\"spi(1,0,{commandinput})\\r\\n\");"
   ]
  },
  {
   "cell_type": "code",
   "execution_count": 77,
   "metadata": {
    "dotnet_interactive": {
     "language": "csharp"
    },
    "polyglot_notebook": {
     "kernelName": "csharp"
    }
   },
   "outputs": [
    {
     "name": "stdout",
     "output_type": "stream",
     "text": [
      "Reference: spi(1,0,04090000)\n",
      "spi(1,0,04090000)\n",
      "\n",
      "Reference: spi(1,0,3e0b0000)\n",
      "spi(1,0,3E0B0000)\n",
      "\n",
      "Reference: spi(1,0,55150000)\n",
      "spi(1,0,55150000)\n",
      "\n",
      "Reference: spi(1,0,6f170000)\n",
      "spi(1,0,6F170000)\n",
      "\n",
      "Reference: spi(1,0,6b210000)\n",
      "spi(1,0,6B210000)\n",
      "\n",
      "!@#$!@#$!@#$: spi(1,0,51230000)\n",
      "spi(1,0,51230000)\n",
      "\n",
      "should be good: spi(1,0,0bf812000)\n",
      "spi(1,0,BF812000)\n",
      "\n",
      "Reference: spi(1,0,60990001)\n",
      "spi(1,0,60990001)\n",
      "\n",
      "should be good: spi(1,0,0aa018001)\n",
      "spi(1,0,AA018001)\n",
      "\n"
     ]
    }
   ],
   "source": [
    "// Write;CH_CTRL;0x00;0x8001\n",
    "commandinput = mycontroller.ChannelControl(1,1,0,0,0,0,0,1);\n",
    "Console.WriteLine(\"should be good: spi(1,0,0aa018001)\");\n",
    "Console.WriteLine($\"spi(1,0,{commandinput})\\r\\n\");\n",
    "\n"
   ]
  }
 ],
 "metadata": {
  "kernelspec": {
   "display_name": ".NET (C#)",
   "language": "C#",
   "name": ".net-csharp"
  },
  "language_info": {
   "name": "polyglot-notebook"
  },
  "polyglot_notebook": {
   "kernelInfo": {
    "defaultKernelName": "csharp",
    "items": [
     {
      "aliases": [],
      "languageName": "csharp",
      "name": "csharp"
     }
    ]
   }
  }
 },
 "nbformat": 4,
 "nbformat_minor": 2
}
